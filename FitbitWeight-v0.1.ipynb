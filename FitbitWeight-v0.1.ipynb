{
 "cells": [
  {
   "cell_type": "code",
   "execution_count": null,
   "metadata": {},
   "outputs": [],
   "source": [
    "import fitbit\n",
    "import gather_keys_oauth2 as Oauth2\n",
    "import pandas as pd\n",
    "import datetime\n",
    "\n",
    "from email_info import CLIENT_ID, CLIENT_SECRET\n"
   ]
  },
  {
   "cell_type": "code",
   "execution_count": null,
   "metadata": {},
   "outputs": [],
   "source": [
    "server = Oauth2.OAuth2Server(CLIENT_ID, CLIENT_SECRET)\n",
    "#gather_keys_oauth2\n",
    "server.browser_authorize()\n",
    "ACCESS_TOKEN = str(server.fitbit.client.session.token['access_token'])\n",
    "REFRESH_TOKEN = str(server.fitbit.client.session.token['refresh_token'])\n",
    "auth2_client = fitbit.Fitbit(CLIENT_ID, CLIENT_SECRET, oauth2=True, access_token=ACCESS_TOKEN, refresh_token=REFRESH_TOKEN)"
   ]
  },
  {
   "cell_type": "code",
   "execution_count": null,
   "metadata": {},
   "outputs": [],
   "source": [
    "# yesterday = str((datetime.datetime.now() - datetime.timedelta(days=1)).strftime(\"%Y%m%d\"))\n",
    "# yesterday2 = str((datetime.datetime.now() - datetime.timedelta(days=1)).strftime(\"%Y%m%d\"))\n",
    "# today = str(datetime.datetime.now().strftime(\"%Y%m%d\"))\n",
    "# print(\"Today is %s\" % today) \n",
    "# print(\"Yesterday is %s\" % yesterday)\n",
    "# print(\"Yesterday 2 is %s\" %yesterday2)"
   ]
  },
  {
   "cell_type": "code",
   "execution_count": null,
   "metadata": {},
   "outputs": [],
   "source": [
    "# fit_statsWl = auth2_client.body(date='today')\n",
    "# print(\"%s\" % fit_statsWl)\n",
    "# print(\"%s\" %today)"
   ]
  },
  {
   "cell_type": "code",
   "execution_count": null,
   "metadata": {},
   "outputs": [],
   "source": [
    "testdate = datetime.date.today()\n",
    "# print(\"%s\" % testdate)\n",
    "fit_statsWl = auth2_client.body(date=\"2018-06-11\")\n",
    "# print(\"%s\" % fit_statsWl)"
   ]
  },
  {
   "cell_type": "code",
   "execution_count": null,
   "metadata": {},
   "outputs": [],
   "source": [
    "# fit_stats_weight = auth2_client.time_series('body/weight', base_date=testdate, period='max')\n",
    "\n",
    "start_date = '2013-07-13'\n",
    "ending_date = '2015-06-13'\n",
    "fit_stats_weight = auth2_client.time_series('body/weight', base_date=start_date, end_date=ending_date)\n",
    "\n",
    "# print(\"%s\" % fit_stats_weight)"
   ]
  },
  {
   "cell_type": "code",
   "execution_count": null,
   "metadata": {},
   "outputs": [],
   "source": [
    "date_list = []\n",
    "weight_list = []\n",
    "# print(\"%s\" % date_list)\n",
    "\n",
    "weight_data = fit_stats_weight[\"body-weight\"]\n",
    "# print(\"%s\" % weight_data)\n",
    "\n",
    "counter = 0\n",
    "while counter < len(weight_data):\n",
    "    extract = weight_data[counter] #{'dateTime': '2015-06-14', 'value': '163.71'}\n",
    "    date_list.append(extract[\"dateTime\"])\n",
    "    weight_list.append(extract[\"value\"])\n",
    "    counter = counter + 1\n",
    "    \n"
   ]
  },
  {
   "cell_type": "code",
   "execution_count": null,
   "metadata": {},
   "outputs": [],
   "source": [
    "date_file = open(\"date_maplesyrup_fitbit.txt\", 'w')  \n",
    "date_file.write(str(date_list))\n",
    "date_file.close() \n",
    "\n",
    "weight_file = open(\"weight_maplesyrup_fitbit.txt\", 'w')  \n",
    "weight_file.write(str(weight_list))\n",
    "weight_file.close() "
   ]
  },
  {
   "cell_type": "code",
   "execution_count": null,
   "metadata": {},
   "outputs": [],
   "source": [
    "# df = pd.DataFrame(data=date_list)\n",
    "# df.columns = ['Date']\n",
    "# df['Weight'] = weight_list\n",
    "# df = df.convert_objects(convert_dates='coerce', convert_numeric=True)\n",
    "# # print(df)\n",
    "# df.plot()"
   ]
  }
 ],
 "metadata": {
  "kernelspec": {
   "display_name": "Python 3",
   "language": "python",
   "name": "python3"
  },
  "language_info": {
   "codemirror_mode": {
    "name": "ipython",
    "version": 3
   },
   "file_extension": ".py",
   "mimetype": "text/x-python",
   "name": "python",
   "nbconvert_exporter": "python",
   "pygments_lexer": "ipython3",
   "version": "3.6.4"
  }
 },
 "nbformat": 4,
 "nbformat_minor": 2
}
